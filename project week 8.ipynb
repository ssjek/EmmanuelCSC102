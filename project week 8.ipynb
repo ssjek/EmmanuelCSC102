{
 "cells": [
  {
   "cell_type": "code",
   "execution_count": null,
   "id": "9ef85f7e",
   "metadata": {},
   "outputs": [],
   "source": [
    "\n",
    "import random as rd\n",
    "import datetime as dt\n",
    "\n",
    "class Employee():\n",
    "    def __init__(jdb, employees, tasks, emp_name):\n",
    "        jdb.emp = employees\n",
    "        jdb.task = tasks\n",
    "        jdb.empname = emp_name\n",
    "        \n",
    "    def check_employee(jdb, num, title):\n",
    "        jdb.num = num\n",
    "        jdb.title = title\n",
    "        for i in range(15):\n",
    "            if jdb.empname == jdb.emp[i]:\n",
    "                jdb.num = jdb.num + 1\n",
    "                print('Access Granted!')\n",
    "                a.take_attendance()\n",
    "                print('Good Day {}. {}'.format(jdb.title, jdb.empname))\n",
    "                a.assign_task()\n",
    "        if jdb.num < 1:\n",
    "            a.refuse_access()\n",
    "                \n",
    "    def take_attendance(jdb):\n",
    "        date = dt.datetime.now()\n",
    "        attendance = print('Attendance for {} {} - Present'.format(date.strftime(\"%A\"), date.strftime(\"%x\")))\n",
    "        return (attendance)\n",
    "        \n",
    "    def assign_task(jdb):\n",
    "        task = jdb.task[rd.randint(0, len(jdb.task) - 1)]\n",
    "        print('Task for Today: {}'.format(task))\n",
    "        \n",
    "    def refuse_access(jdb):\n",
    "        print('Access Denied!\\nName Not Found')\n",
    "\n",
    "num = 0\n",
    "employees = [\"Mary Evans\", \"Eyo Ishan\", \"Durojaiye Dare\", \"Adams Ali\", \"Andrew Ugwu\", \"Stella Mankinde\", \"Jane Akibo\", \"Ago James\", \"Michell Taiwo\", \"Abraham Jones\" , \"Nicole Anide\", \"Kosi Korso\", \"Adele Martins\", \"Emmanuel Ojo\", \"Ajayi Fatima\"]\n",
    "tasks = [\"Loading\", \"Transporting\", \"Reveiwing Orders\", \"Customer Service\", \"Delivering Items\"]\n",
    "title = input(\"Title: \")\n",
    "emp_name = input(\"Name(Firstname Lastname): \")\n",
    "a = Employee(employees, tasks, emp_name)\n",
    "\n",
    "a.check_employee(num, title)\n",
    "\n",
    "\n",
    "\n"
   ]
  }
 ],
 "metadata": {
  "kernelspec": {
   "display_name": "Python 3 (ipykernel)",
   "language": "python",
   "name": "python3"
  },
  "language_info": {
   "codemirror_mode": {
    "name": "ipython",
    "version": 3
   },
   "file_extension": ".py",
   "mimetype": "text/x-python",
   "name": "python",
   "nbconvert_exporter": "python",
   "pygments_lexer": "ipython3",
   "version": "3.10.9"
  }
 },
 "nbformat": 4,
 "nbformat_minor": 5
}
